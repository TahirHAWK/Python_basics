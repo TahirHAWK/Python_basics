{
 "cells": [
  {
   "cell_type": "code",
   "execution_count": 4,
   "id": "8feee8bd",
   "metadata": {},
   "outputs": [
    {
     "name": "stdout",
     "output_type": "stream",
     "text": [
      "hello world\n"
     ]
    }
   ],
   "source": [
    "# Hello world print\n",
    "print('hello world')"
   ]
  },
  {
   "cell_type": "code",
   "execution_count": 1,
   "id": "5191c72f",
   "metadata": {},
   "outputs": [
    {
     "name": "stdout",
     "output_type": "stream",
     "text": [
      "hi there this is a string 5.131123 5\n",
      "hi there this is a string 10.131122999999999 5\n"
     ]
    }
   ],
   "source": [
    "# variables and basic mathematical operations\n",
    "a = 'hi there this is a string'\n",
    "b = 5.131123\n",
    "c =  5\n",
    "d = True\n",
    "# before summation\n",
    "print(a, b, c)\n",
    "#  after summation\n",
    "b = b+c\n",
    "print(a, b, c)"
   ]
  },
  {
   "cell_type": "code",
   "execution_count": 6,
   "id": "fcb66e9e",
   "metadata": {},
   "outputs": [
    {
     "name": "stdout",
     "output_type": "stream",
     "text": [
      "<class 'str'> <class 'float'> <class 'int'> <class 'bool'>\n"
     ]
    }
   ],
   "source": [
    "# data types\n",
    "print(type(a), type(b), type(c), type(d))\n",
    "# you can access variables from upside in next segment, that's why we an access a,b,c from before"
   ]
  },
  {
   "cell_type": "code",
   "execution_count": 9,
   "id": "2de32ce2",
   "metadata": {},
   "outputs": [
    {
     "name": "stdout",
     "output_type": "stream",
     "text": [
      "Enter first value\n",
      "3\n",
      "Enter second value\n",
      "hi there\n"
     ]
    }
   ],
   "source": [
    "# input from user\n",
    "\n",
    "print('Enter first value')\n",
    "a = input()\n",
    "print(a)\n",
    "print('Enter second value')\n",
    "b = input()\n",
    "print(b)"
   ]
  },
  {
   "cell_type": "code",
   "execution_count": 2,
   "id": "e107443e",
   "metadata": {},
   "outputs": [
    {
     "name": "stdout",
     "output_type": "stream",
     "text": [
      "<class 'str'> hi there this is a string\n",
      "1212\n",
      "33\n",
      "Hi fuck\n"
     ]
    }
   ],
   "source": [
    "# whatever input you receive via input function it will receive it as a string.For example:\n",
    "print(type(a), a)\n",
    "\n",
    "a = input()\n",
    "b = input()\n",
    "# will print as string\n",
    "print(a+b)\n",
    "\n",
    "a = int (input())\n",
    "b = int (input())\n",
    "# will print as number and make the summation\n",
    "print(a+b)\n",
    "\n",
    "# here the input is used as a prompt in webpage before the output is displayed.\n",
    "d = input('Hey')\n",
    "print('Hi', d)"
   ]
  },
  {
   "cell_type": "code",
   "execution_count": 15,
   "id": "143e5fea",
   "metadata": {},
   "outputs": [
    {
     "name": "stdout",
     "output_type": "stream",
     "text": [
      "   4343.89\n",
      "3.14\n"
     ]
    }
   ],
   "source": [
    "# different formats of output\n",
    "a = 4343.88888888888\n",
    "print(\"%10.2f\" %a)\n",
    "# here 10.2f means, 10 indicates the number of free spaces before the number, .2 indicates how many digits will be shown after the decimal point, and the f indicates that it is a float type data\n",
    "b = 22\n",
    "c = 7\n",
    "d = b/c\n",
    "print(\"%.2f\" %d)"
   ]
  },
  {
   "cell_type": "markdown",
   "id": "2196bc53",
   "metadata": {},
   "source": [
    "Area calculation using python"
   ]
  },
  {
   "cell_type": "code",
   "execution_count": 4,
   "id": "c64aa04c",
   "metadata": {},
   "outputs": [
    {
     "name": "stdout",
     "output_type": "stream",
     "text": [
      "9 9.0 9.0\n",
      "4.5\n"
     ]
    }
   ],
   "source": [
    "L = float(input())\n",
    "W = float(input())\n",
    "area = L * W\n",
    "print(int(area), float(area), area)\n",
    "print(9/2)"
   ]
  },
  {
   "cell_type": "markdown",
   "id": "422c6c6c",
   "metadata": {},
   "source": [
    "Type conversion between numbers\n",
    "(N.B: you cannot convert complex numbers into another number type)"
   ]
  },
  {
   "cell_type": "code",
   "execution_count": 5,
   "id": "cffca8e9",
   "metadata": {},
   "outputs": [
    {
     "name": "stdout",
     "output_type": "stream",
     "text": [
      "x: 1 \n",
      "y: 2.3 \n",
      "z: 1j \n",
      "a: 1.0 \n",
      "b: 2 \n",
      "c: (1+0j) \n",
      "d: (2.3+0j)\n"
     ]
    }
   ],
   "source": [
    "x = 1 \n",
    "# int\n",
    "y = 2.3 \n",
    "# float\n",
    "z = 1j\n",
    "\n",
    "# convert from int to float\n",
    "a = float(x)\n",
    "\n",
    "# convert from float to int\n",
    "b = int(y)\n",
    "\n",
    "# convert from int to complex\n",
    "c = complex(x)\n",
    "d = complex(y)\n",
    "\n",
    "print('x:', x, '\\ny:',y, '\\nz:', z, '\\na:', a, '\\nb:', b, '\\nc:', c, '\\nd:', d)"
   ]
  },
  {
   "cell_type": "markdown",
   "id": "35effcca",
   "metadata": {},
   "source": [
    "Random number"
   ]
  },
  {
   "cell_type": "code",
   "execution_count": 28,
   "id": "7ee253f3",
   "metadata": {},
   "outputs": [
    {
     "name": "stdout",
     "output_type": "stream",
     "text": [
      "3\n"
     ]
    }
   ],
   "source": [
    "# python does not have a random() function to make a random number, but python has a built in module called 'random' that can be used to make random numbers after importing.\n",
    "\n",
    "import random\n",
    "\n",
    "print(random.randrange(1, 10))"
   ]
  },
  {
   "cell_type": "markdown",
   "id": "19ae83aa",
   "metadata": {},
   "source": [
    "Python Casting\n"
   ]
  },
  {
   "cell_type": "code",
   "execution_count": null,
   "id": "d6ef829e",
   "metadata": {},
   "outputs": [],
   "source": [
    "# start from here..\n",
    "https://www.w3schools.com/python/python_casting.asp"
   ]
  }
 ],
 "metadata": {
  "kernelspec": {
   "display_name": "Python 3",
   "language": "python",
   "name": "python3"
  },
  "language_info": {
   "codemirror_mode": {
    "name": "ipython",
    "version": 3
   },
   "file_extension": ".py",
   "mimetype": "text/x-python",
   "name": "python",
   "nbconvert_exporter": "python",
   "pygments_lexer": "ipython3",
   "version": "3.8.8"
  }
 },
 "nbformat": 4,
 "nbformat_minor": 5
}
