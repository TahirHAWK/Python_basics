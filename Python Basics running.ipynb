{
 "cells": [
  {
   "cell_type": "code",
   "execution_count": 4,
   "id": "8feee8bd",
   "metadata": {},
   "outputs": [
    {
     "name": "stdout",
     "output_type": "stream",
     "text": [
      "hello world\n"
     ]
    }
   ],
   "source": [
    "# Hello world print\n",
    "print('hello world')"
   ]
  },
  {
   "cell_type": "code",
   "execution_count": 1,
   "id": "5191c72f",
   "metadata": {},
   "outputs": [
    {
     "name": "stdout",
     "output_type": "stream",
     "text": [
      "hi there this is a string 5.131123 5\n",
      "hi there this is a string 10.131122999999999 5\n"
     ]
    }
   ],
   "source": [
    "# variables and basic mathematical operations\n",
    "a = 'hi there this is a string'\n",
    "b = 5.131123\n",
    "c =  5\n",
    "d = True\n",
    "# before summation\n",
    "print(a, b, c)\n",
    "#  after summation\n",
    "b = b+c\n",
    "print(a, b, c)"
   ]
  },
  {
   "cell_type": "code",
   "execution_count": 6,
   "id": "fcb66e9e",
   "metadata": {},
   "outputs": [
    {
     "name": "stdout",
     "output_type": "stream",
     "text": [
      "<class 'str'> <class 'float'> <class 'int'> <class 'bool'>\n"
     ]
    }
   ],
   "source": [
    "# data types\n",
    "print(type(a), type(b), type(c), type(d))\n",
    "# you can access variables from upside in next segment, that's why we an access a,b,c from before"
   ]
  },
  {
   "cell_type": "code",
   "execution_count": 9,
   "id": "2de32ce2",
   "metadata": {},
   "outputs": [
    {
     "name": "stdout",
     "output_type": "stream",
     "text": [
      "Enter first value\n",
      "3\n",
      "Enter second value\n",
      "hi there\n"
     ]
    }
   ],
   "source": [
    "# input from user\n",
    "\n",
    "print('Enter first value')\n",
    "a = input()\n",
    "print(a)\n",
    "print('Enter second value')\n",
    "b = input()\n",
    "print(b)"
   ]
  },
  {
   "cell_type": "code",
   "execution_count": 2,
   "id": "e107443e",
   "metadata": {},
   "outputs": [
    {
     "name": "stdout",
     "output_type": "stream",
     "text": [
      "<class 'str'> hi there this is a string\n",
      "1212\n",
      "33\n",
      "Hi fuck\n"
     ]
    }
   ],
   "source": [
    "# whatever input you receive via input function it will receive it as a string.For example:\n",
    "print(type(a), a)\n",
    "\n",
    "a = input()\n",
    "b = input()\n",
    "# will print as string\n",
    "print(a+b)\n",
    "\n",
    "a = int (input())\n",
    "b = int (input())\n",
    "# will print as number and make the summation\n",
    "print(a+b)\n",
    "\n",
    "# here the input is used as a prompt in webpage before the output is displayed.\n",
    "d = input('Hey')\n",
    "print('Hi', d)"
   ]
  },
  {
   "cell_type": "code",
   "execution_count": 15,
   "id": "143e5fea",
   "metadata": {},
   "outputs": [
    {
     "name": "stdout",
     "output_type": "stream",
     "text": [
      "   4343.89\n",
      "3.14\n"
     ]
    }
   ],
   "source": [
    "# different formats of output\n",
    "a = 4343.88888888888\n",
    "print(\"%10.2f\" %a)\n",
    "# here 10.2f means, 10 indicates the number of free spaces before the number, .2 indicates how many digits will be shown after the decimal point, and the f indicates that it is a float type data\n",
    "b = 22\n",
    "c = 7\n",
    "d = b/c\n",
    "print(\"%.2f\" %d)"
   ]
  },
  {
   "cell_type": "markdown",
   "id": "2196bc53",
   "metadata": {},
   "source": [
    "Area calculation using python"
   ]
  },
  {
   "cell_type": "code",
   "execution_count": 4,
   "id": "c64aa04c",
   "metadata": {},
   "outputs": [
    {
     "name": "stdout",
     "output_type": "stream",
     "text": [
      "9 9.0 9.0\n",
      "4.5\n"
     ]
    }
   ],
   "source": [
    "L = float(input())\n",
    "W = float(input())\n",
    "area = L * W\n",
    "print(int(area), float(area), area)\n",
    "print(9/2)"
   ]
  },
  {
   "cell_type": "markdown",
   "id": "422c6c6c",
   "metadata": {},
   "source": [
    "Type conversion between numbers\n",
    "(N.B: you cannot convert complex numbers into another number type)"
   ]
  },
  {
   "cell_type": "code",
   "execution_count": 5,
   "id": "cffca8e9",
   "metadata": {},
   "outputs": [
    {
     "name": "stdout",
     "output_type": "stream",
     "text": [
      "x: 1 \n",
      "y: 2.3 \n",
      "z: 1j \n",
      "a: 1.0 \n",
      "b: 2 \n",
      "c: (1+0j) \n",
      "d: (2.3+0j)\n"
     ]
    }
   ],
   "source": [
    "x = 1 \n",
    "# int\n",
    "y = 2.3 \n",
    "# float\n",
    "z = 1j\n",
    "\n",
    "# convert from int to float\n",
    "a = float(x)\n",
    "\n",
    "# convert from float to int\n",
    "b = int(y)\n",
    "\n",
    "# convert from int to complex\n",
    "c = complex(x)\n",
    "d = complex(y)\n",
    "\n",
    "print('x:', x, '\\ny:',y, '\\nz:', z, '\\na:', a, '\\nb:', b, '\\nc:', c, '\\nd:', d)"
   ]
  },
  {
   "cell_type": "markdown",
   "id": "35effcca",
   "metadata": {},
   "source": [
    "Random number"
   ]
  },
  {
   "cell_type": "code",
   "execution_count": 28,
   "id": "7ee253f3",
   "metadata": {},
   "outputs": [
    {
     "name": "stdout",
     "output_type": "stream",
     "text": [
      "3\n"
     ]
    }
   ],
   "source": [
    "# python does not have a random() function to make a random number, but python has a built in module called 'random' that can be used to make random numbers after importing.\n",
    "\n",
    "import random\n",
    "\n",
    "print(random.randrange(1, 10))"
   ]
  },
  {
   "cell_type": "markdown",
   "id": "19ae83aa",
   "metadata": {},
   "source": [
    "Python Casting\n"
   ]
  },
  {
   "cell_type": "code",
   "execution_count": 15,
   "id": "d6ef829e",
   "metadata": {},
   "outputs": [
    {
     "name": "stdout",
     "output_type": "stream",
     "text": [
      "3.0 3.3333 <class 'str'>\n"
     ]
    }
   ],
   "source": [
    "x = int(1)   # x will be 1\n",
    "y = int(2.8) # y will be 2\n",
    "z = int(\"3\") # z will be 3\n",
    "z = float(\"3.002\") # z will be 3\n",
    "x = float(3.002) # z will be 3\n",
    "x = float(3) # z will be 3\n",
    "\n",
    "a = str(3.3333)\n",
    "\n",
    "print(x, a, type(a))"
   ]
  },
  {
   "cell_type": "markdown",
   "id": "f7b94b45",
   "metadata": {},
   "source": [
    "Strings in python\n"
   ]
  },
  {
   "cell_type": "code",
   "execution_count": 17,
   "id": "19f1a3bd",
   "metadata": {},
   "outputs": [
    {
     "name": "stdout",
     "output_type": "stream",
     "text": [
      "\n",
      "lets go, we can do this,\n",
      "we are the people, \n",
      "we can do this or we don't \n",
      "we have to leave the country man\n",
      "\n"
     ]
    }
   ],
   "source": [
    "# single line string\n",
    "a = 'HEllo my man'\n",
    "# multiline string\n",
    "b = '''\n",
    "lets go, we can do this,\n",
    "we are the people, \n",
    "we can do this or we don't \n",
    "we have to leave the country man\n",
    "'''\n",
    "\n",
    "print(b)"
   ]
  },
  {
   "cell_type": "markdown",
   "id": "953212ca",
   "metadata": {},
   "source": [
    "Arrays are strings"
   ]
  },
  {
   "cell_type": "code",
   "execution_count": 23,
   "id": "692eb924",
   "metadata": {},
   "outputs": [
    {
     "name": "stdout",
     "output_type": "stream",
     "text": [
      "e 4\n",
      "t 5\n",
      "a 5\n",
      "m 5\n",
      "i 5\n",
      "n 5\n"
     ]
    }
   ],
   "source": [
    "b = [1, 2,3 ,4]\n",
    "a = 'hello people'\n",
    "print(a[1], len(b))\n",
    "# len function returns the length of a string or an array\n",
    "\n",
    "\n",
    "for x in \"tamin\":\n",
    "    print(x, len(\"tamin\"))"
   ]
  },
  {
   "cell_type": "markdown",
   "id": "b56044e1",
   "metadata": {},
   "source": [
    "Check String "
   ]
  },
  {
   "cell_type": "code",
   "execution_count": 5,
   "id": "8d50b9bf",
   "metadata": {},
   "outputs": [
    {
     "name": "stdout",
     "output_type": "stream",
     "text": [
      "True\n",
      "yes, free is present\n",
      "True\n",
      "NO, 'expensive' is not present.\n"
     ]
    }
   ],
   "source": [
    "# to check a certain phrase or character is present in a string, we can use the keyword 'in'\n",
    "\n",
    "txt = 'the best things in life are free'\n",
    "print(\"free\" in txt)\n",
    "\n",
    "if \"free\" in txt:\n",
    "    print(\"yes, free is present\")\n",
    "\n",
    "\n",
    "\n",
    "# to check if a certain phrase or character is NOT present in a string, we can use the keyword not in. So, if it is present, it will return false.\n",
    "\n",
    "print(\"expensive\" not in txt)\n",
    "\n",
    "# same goes for not in \n",
    "if \"expensive\" not in txt:\n",
    "    print(\"NO, 'expensive' is not present.\")\n",
    "\n"
   ]
  },
  {
   "cell_type": "markdown",
   "id": "e743ac78",
   "metadata": {},
   "source": [
    "Slicing Strings\n"
   ]
  },
  {
   "cell_type": "code",
   "execution_count": 13,
   "id": "af331808",
   "metadata": {},
   "outputs": [
    {
     "name": "stdout",
     "output_type": "stream",
     "text": [
      "llo w\n",
      "Hello w\n",
      "llo world\n",
      "wor\n"
     ]
    }
   ],
   "source": [
    "# as strings are arrays, you can slice a part of string with ':' , where on the left side you have to put in the start index and on the right you have to put the end index\n",
    "b = \"Hello World\"\n",
    "c = b[2:7]\n",
    "print(c)\n",
    "\n",
    "# slice from the start\n",
    "print(b[:7])\n",
    "\n",
    "\n",
    "x=2\n",
    "# slice to the end\n",
    "print(b[x:])\n",
    "# get characters from position x all the to the end\n",
    "\n",
    "# Negative indexing\n",
    "print(b[-5:-2])\n",
    "# From \"w\" in world!(position -5) to but not included: \"l\" in \"world!\"(position -2)\n",
    "\n"
   ]
  },
  {
   "cell_type": "markdown",
   "id": "451b3088",
   "metadata": {},
   "source": [
    "Modify Strings"
   ]
  },
  {
   "cell_type": "code",
   "execution_count": 35,
   "id": "267ecedf",
   "metadata": {},
   "outputs": [
    {
     "name": "stdout",
     "output_type": "stream",
     "text": [
      " HELLO, WORLD\n",
      " hello, world\n",
      "Hello, World\n",
      " Jello, World\n",
      "(space_here)Hello,(space_here)World\n",
      "[' Hello', ' World']\n"
     ]
    }
   ],
   "source": [
    "b = \" Hello, World\"\n",
    "c = '[1, 2, 3, 4,5]'\n",
    "# upper case\n",
    "print(b.upper())\n",
    "# lower case\n",
    "print(b.lower())\n",
    "# remove whitespace\n",
    "print(b.strip())\n",
    "\n",
    "# replace string\n",
    "# takes two parameters, first one is a part of string that you want replaced, second one is the part of string which you want to see as replaced\n",
    "print(b.replace(\"H\", \"J\"))\n",
    "print(b.replace(\" \", \"(space_here)\"))\n",
    "# the split method splits the string into substrings if it finds instances of the separator\n",
    "print(b.split(\",\"))"
   ]
  },
  {
   "cell_type": "markdown",
   "id": "6b0ff627",
   "metadata": {},
   "source": [
    "String Concatenation"
   ]
  },
  {
   "cell_type": "code",
   "execution_count": null,
   "id": "53e41ef2",
   "metadata": {},
   "outputs": [],
   "source": [
    "# https://www.w3schools.com/python/python_strings_concatenate.asp"
   ]
  }
 ],
 "metadata": {
  "kernelspec": {
   "display_name": "Python 3",
   "language": "python",
   "name": "python3"
  },
  "language_info": {
   "codemirror_mode": {
    "name": "ipython",
    "version": 3
   },
   "file_extension": ".py",
   "mimetype": "text/x-python",
   "name": "python",
   "nbconvert_exporter": "python",
   "pygments_lexer": "ipython3",
   "version": "3.8.8"
  }
 },
 "nbformat": 4,
 "nbformat_minor": 5
}
