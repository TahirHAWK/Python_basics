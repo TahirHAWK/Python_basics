{
 "cells": [
  {
   "cell_type": "code",
   "execution_count": 2,
   "id": "000fb369",
   "metadata": {},
   "outputs": [
    {
     "name": "stdout",
     "output_type": "stream",
     "text": [
      "Hello world\n"
     ]
    }
   ],
   "source": [
    "print(\"Hello world\")"
   ]
  },
  {
   "cell_type": "code",
   "execution_count": 2,
   "id": "38662e22",
   "metadata": {},
   "outputs": [
    {
     "name": "stdout",
     "output_type": "stream",
     "text": [
      "i love to make love,  lets go and do that,\n",
      "lets go and do that, i love to make love, \n"
     ]
    }
   ],
   "source": [
    "# variable\n",
    "a = 'i love to make love, ' \n",
    "b = 'lets go and do that,'                            #assignment operator\n",
    "print(a,b)                                           #comma operator\n",
    "print(b,a)\n",
    " \n"
   ]
  },
  {
   "cell_type": "code",
   "execution_count": 8,
   "id": "90bab377",
   "metadata": {
    "scrolled": false
   },
   "outputs": [
    {
     "name": "stdout",
     "output_type": "stream",
     "text": [
      "<class 'int'>\n",
      "<class 'float'>\n",
      "<class 'str'>\n",
      "<class 'bool'>\n"
     ]
    }
   ],
   "source": [
    "# data type\n",
    "a= 5 \n",
    "b= 3.532442\n",
    "name = \"Tahir Anam Tamin\"\n",
    "c= True\n",
    "print(type(a))\n",
    "print(type(b))\n",
    "print(type(name))\n",
    "print(type(c))"
   ]
  },
  {
   "cell_type": "code",
   "execution_count": 23,
   "id": "1ea5e8fc",
   "metadata": {},
   "outputs": [
    {
     "name": "stdout",
     "output_type": "stream",
     "text": [
      "1\n",
      "4.5\n",
      "18\n",
      "11\n"
     ]
    }
   ],
   "source": [
    "# mathematical operations\n",
    "\n",
    "a= 9 \n",
    "b=2\n",
    "c= a + b\n",
    "d= a * b\n",
    "e = a / b\n",
    "r = a % b\n",
    "\n",
    "print(r)\n",
    "print(e)\n",
    "print(d)\n",
    "print(c) "
   ]
  },
  {
   "cell_type": "code",
   "execution_count": null,
   "id": "ae04e008",
   "metadata": {},
   "outputs": [],
   "source": [
    "# start learning from \"input from user\""
   ]
  }
 ],
 "metadata": {
  "kernelspec": {
   "display_name": "Python 3",
   "language": "python",
   "name": "python3"
  },
  "language_info": {
   "codemirror_mode": {
    "name": "ipython",
    "version": 3
   },
   "file_extension": ".py",
   "mimetype": "text/x-python",
   "name": "python",
   "nbconvert_exporter": "python",
   "pygments_lexer": "ipython3",
   "version": "3.8.8"
  }
 },
 "nbformat": 4,
 "nbformat_minor": 5
}
