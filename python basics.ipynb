{
 "cells": [
  {
   "cell_type": "code",
   "execution_count": 2,
   "id": "000fb369",
   "metadata": {},
   "outputs": [
    {
     "name": "stdout",
     "output_type": "stream",
     "text": [
      "Hello world\n"
     ]
    }
   ],
   "source": [
    "print(\"Hello world\")"
   ]
  },
  {
   "cell_type": "code",
   "execution_count": 4,
   "id": "38662e22",
   "metadata": {},
   "outputs": [
    {
     "name": "stdout",
     "output_type": "stream",
     "text": [
      "i love to make love lets go and do that\n",
      "lets go and do that i love to make love\n"
     ]
    }
   ],
   "source": [
    "# variable\n",
    "a = 'i love to make love' \n",
    "b = 'lets go and do that'                            #assignment operator\n",
    "print(a,b)                                           #comma operator\n",
    "print(b,a)\n",
    " \n"
   ]
  },
  {
   "cell_type": "code",
   "execution_count": null,
   "id": "90bab377",
   "metadata": {
    "scrolled": false
   },
   "outputs": [],
   "source": [
    "# will continue learning from data type"
   ]
  },
  {
   "cell_type": "code",
   "execution_count": null,
   "id": "1ea5e8fc",
   "metadata": {},
   "outputs": [],
   "source": []
  }
 ],
 "metadata": {
  "kernelspec": {
   "display_name": "Python 3",
   "language": "python",
   "name": "python3"
  },
  "language_info": {
   "codemirror_mode": {
    "name": "ipython",
    "version": 3
   },
   "file_extension": ".py",
   "mimetype": "text/x-python",
   "name": "python",
   "nbconvert_exporter": "python",
   "pygments_lexer": "ipython3",
   "version": "3.8.8"
  }
 },
 "nbformat": 4,
 "nbformat_minor": 5
}
